{
 "cells": [
  {
   "attachments": {},
   "cell_type": "markdown",
   "metadata": {},
   "source": [
    "## Importing \n",
    "* numpy , pandas , matplotlib"
   ]
  },
  {
   "cell_type": "code",
   "execution_count": 1,
   "metadata": {},
   "outputs": [],
   "source": [
    "import pandas as pd\n",
    "import numpy as np\n",
    "import pylab as pl\n",
    "import matplotlib.pyplot as plt"
   ]
  },
  {
   "attachments": {},
   "cell_type": "markdown",
   "metadata": {},
   "source": [
    "## Reading file\n",
    "* Reading files as my_data by fileAddress\n",
    "* Clearing data from nan types "
   ]
  },
  {
   "cell_type": "code",
   "execution_count": 2,
   "metadata": {},
   "outputs": [
    {
     "data": {
      "text/html": [
       "<div>\n",
       "<style scoped>\n",
       "    .dataframe tbody tr th:only-of-type {\n",
       "        vertical-align: middle;\n",
       "    }\n",
       "\n",
       "    .dataframe tbody tr th {\n",
       "        vertical-align: top;\n",
       "    }\n",
       "\n",
       "    .dataframe thead th {\n",
       "        text-align: right;\n",
       "    }\n",
       "</style>\n",
       "<table border=\"1\" class=\"dataframe\">\n",
       "  <thead>\n",
       "    <tr style=\"text-align: right;\">\n",
       "      <th></th>\n",
       "      <th>live</th>\n",
       "      <th>open</th>\n",
       "      <th>high</th>\n",
       "      <th>low</th>\n",
       "      <th>close</th>\n",
       "      <th>histoy</th>\n",
       "    </tr>\n",
       "  </thead>\n",
       "  <tbody>\n",
       "    <tr>\n",
       "      <th>1</th>\n",
       "      <td>0.195521</td>\n",
       "      <td>0.4442</td>\n",
       "      <td>0.4457</td>\n",
       "      <td>0.4436</td>\n",
       "      <td>0.4438</td>\n",
       "      <td>0.194375</td>\n",
       "    </tr>\n",
       "    <tr>\n",
       "      <th>2</th>\n",
       "      <td>0.005254</td>\n",
       "      <td>0.4438</td>\n",
       "      <td>0.4477</td>\n",
       "      <td>0.4435</td>\n",
       "      <td>0.4461</td>\n",
       "      <td>0.109276</td>\n",
       "    </tr>\n",
       "    <tr>\n",
       "      <th>3</th>\n",
       "      <td>0.193051</td>\n",
       "      <td>0.4461</td>\n",
       "      <td>0.4474</td>\n",
       "      <td>0.4443</td>\n",
       "      <td>0.4473</td>\n",
       "      <td>0.211418</td>\n",
       "    </tr>\n",
       "    <tr>\n",
       "      <th>4</th>\n",
       "      <td>0.282928</td>\n",
       "      <td>0.4473</td>\n",
       "      <td>0.4517</td>\n",
       "      <td>0.4462</td>\n",
       "      <td>0.4497</td>\n",
       "      <td>0.377355</td>\n",
       "    </tr>\n",
       "    <tr>\n",
       "      <th>5</th>\n",
       "      <td>0.567708</td>\n",
       "      <td>0.4496</td>\n",
       "      <td>0.4578</td>\n",
       "      <td>0.4492</td>\n",
       "      <td>0.4554</td>\n",
       "      <td>0.790400</td>\n",
       "    </tr>\n",
       "  </tbody>\n",
       "</table>\n",
       "</div>"
      ],
      "text/plain": [
       "       live    open    high     low   close    histoy\n",
       "1  0.195521  0.4442  0.4457  0.4436  0.4438  0.194375\n",
       "2  0.005254  0.4438  0.4477  0.4435  0.4461  0.109276\n",
       "3  0.193051  0.4461  0.4474  0.4443  0.4473  0.211418\n",
       "4  0.282928  0.4473  0.4517  0.4462  0.4497  0.377355\n",
       "5  0.567708  0.4496  0.4578  0.4492  0.4554  0.790400"
      ]
     },
     "execution_count": 2,
     "metadata": {},
     "output_type": "execute_result"
    }
   ],
   "source": [
    "FileAddress = r\"D:\\Payam\\UT\\Machin Learning\\Files\\site_project.csv\" # address of the file on own PC\n",
    "my_data = pd.read_csv(FileAddress)\n",
    "my_data = my_data[[\"live\" , \"open\" , \"high\" , \"low\" , \"close\" , \"histoy\"]]\n",
    "my_data = my_data.dropna()\n",
    "my_data.head()"
   ]
  },
  {
   "attachments": {},
   "cell_type": "markdown",
   "metadata": {},
   "source": [
    "## Split the data in a ratio of one to four \n",
    "* 80% to trian \n",
    "* 20% test "
   ]
  },
  {
   "cell_type": "code",
   "execution_count": 3,
   "metadata": {},
   "outputs": [
    {
     "name": "stdout",
     "output_type": "stream",
     "text": [
      "            live     open     high      low    close    histoy\n",
      "1       0.195521   0.4442   0.4457   0.4436   0.4438  0.194375\n",
      "2       0.005254   0.4438   0.4477   0.4435   0.4461  0.109276\n",
      "3       0.193051   0.4461   0.4474   0.4443   0.4473  0.211418\n",
      "6       1.264642   0.4555   0.4588   0.4554   0.4577  1.347964\n",
      "7       1.973798   0.4576   0.4620   0.4568   0.4582  2.036724\n",
      "...          ...      ...      ...      ...      ...       ...\n",
      "176697 -1.146159  10.8700  10.9000  10.7900  10.8500 -1.169243\n",
      "176698 -0.866547  10.8600  10.8800  10.8200  10.8300 -0.903663\n",
      "176699 -0.445951  10.8500  10.8500  10.7700  10.8200 -0.473987\n",
      "176700 -0.046607  10.8100  10.9200  10.8000  10.9100  0.108881\n",
      "176702  1.381124  10.9600  11.1200  10.9000  11.1100  1.594465\n",
      "\n",
      "[141384 rows x 6 columns]\n",
      "            live     open     high      low    close    histoy\n",
      "4       0.282928   0.4473   0.4517   0.4462   0.4497  0.377355\n",
      "5       0.567708   0.4496   0.4578   0.4492   0.4554  0.790400\n",
      "8       2.747950   0.4583   0.4618   0.4557   0.4568  2.715533\n",
      "9       3.197642   0.4568   0.4595   0.4560   0.4593  3.267702\n",
      "13      3.028757   0.4570   0.4587   0.4552   0.4563  3.010878\n",
      "...          ...      ...      ...      ...      ...       ...\n",
      "176678  1.978763  10.9300  11.0400  10.5100  10.7300  1.632897\n",
      "176687 -0.819481  10.8300  10.8800  10.8100  10.8500 -0.787220\n",
      "176690  0.625477  10.9500  10.9700  10.8000  10.8000  0.402352\n",
      "176692 -0.049649  10.6300  10.8700  10.6300  10.7600  0.185230\n",
      "176701  0.727916  10.9200  10.9600  10.8700  10.9500  0.751798\n",
      "\n",
      "[35318 rows x 6 columns]\n"
     ]
    }
   ],
   "source": [
    "msk = np.random.rand(len(my_data)) < 0.8\n",
    "train_data = my_data[msk]\n",
    "test_data = my_data[~msk]\n",
    "print(train_data)\n",
    "print(test_data)"
   ]
  },
  {
   "attachments": {},
   "cell_type": "markdown",
   "metadata": {},
   "source": [
    "## Modelling data and fit them\n",
    "* Using multiple Regression\n",
    "* Training final function"
   ]
  },
  {
   "cell_type": "code",
   "execution_count": 4,
   "metadata": {},
   "outputs": [
    {
     "name": "stdout",
     "output_type": "stream",
     "text": [
      "ceofficients :  [[ 1.19346632e-03 -2.91265455e-04 -2.21335423e-04 -6.80390542e-04\n",
      "   9.84702906e-01]]\n"
     ]
    }
   ],
   "source": [
    "from sklearn import linear_model\n",
    "regr = linear_model.LinearRegression()\n",
    "X_data_train = np.asanyarray(train_data[[ \"open\" , \"high\" , \"low\" , \"close\" , \"histoy\"]])\n",
    "Y_data_train = np.asanyarray(train_data[[\"live\"]])\n",
    "regr.fit(X_data_train , Y_data_train)\n",
    "print (\"ceofficients : \" , regr.coef_)"
   ]
  },
  {
   "attachments": {},
   "cell_type": "markdown",
   "metadata": {},
   "source": [
    "## Using our test_data to predict and compering "
   ]
  },
  {
   "cell_type": "code",
   "execution_count": 7,
   "metadata": {},
   "outputs": [],
   "source": [
    "y_predict = regr.predict(test_data[[\"open\" , \"high\" , \"low\" , \"close\" , \"histoy\"]].values)\n",
    "X_data_test = np.asanyarray(test_data[[ \"open\" , \"high\" , \"low\" , \"close\" , \"histoy\"]])\n",
    "y_data_test = np.asanyarray(test_data[[\"live\"]])"
   ]
  },
  {
   "cell_type": "code",
   "execution_count": 6,
   "metadata": {},
   "outputs": [
    {
     "name": "stdout",
     "output_type": "stream",
     "text": [
      "Residual sum of squares: 0.05\n",
      "Variance score: 1.00\n"
     ]
    }
   ],
   "source": [
    "print(\"Residual sum of squares: %.2f\"\n",
    "      % np.mean((y_predict - y_data_test) ** 2))\n",
    "print('Variance score: %.2f' % regr.score(X_data_test, y_data_test))"
   ]
  },
  {
   "cell_type": "code",
   "execution_count": null,
   "metadata": {},
   "outputs": [],
   "source": []
  },
  {
   "cell_type": "code",
   "execution_count": null,
   "metadata": {},
   "outputs": [],
   "source": []
  },
  {
   "cell_type": "code",
   "execution_count": null,
   "metadata": {},
   "outputs": [],
   "source": []
  }
 ],
 "metadata": {
  "kernelspec": {
   "display_name": "Python 3",
   "language": "python",
   "name": "python3"
  },
  "language_info": {
   "codemirror_mode": {
    "name": "ipython",
    "version": 3
   },
   "file_extension": ".py",
   "mimetype": "text/x-python",
   "name": "python",
   "nbconvert_exporter": "python",
   "pygments_lexer": "ipython3",
   "version": "3.11.2"
  },
  "orig_nbformat": 4,
  "vscode": {
   "interpreter": {
    "hash": "1a3bde3afcea6d6f434be3646667817f408ad01ad49ee4a537ef9595316484bc"
   }
  }
 },
 "nbformat": 4,
 "nbformat_minor": 2
}

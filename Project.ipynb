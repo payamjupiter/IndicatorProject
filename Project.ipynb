{
 "cells": [
  {
   "attachments": {},
   "cell_type": "markdown",
   "metadata": {},
   "source": [
    "## Importing \n",
    "* numpy , pandas , matplotlib"
   ]
  },
  {
   "cell_type": "code",
   "execution_count": 2,
   "metadata": {},
   "outputs": [],
   "source": [
    "import pandas as pd\n",
    "import numpy as np\n",
    "import pylab as pl\n",
    "import matplotlib.pyplot as plt"
   ]
  },
  {
   "attachments": {},
   "cell_type": "markdown",
   "metadata": {},
   "source": [
    "## Reading file\n",
    "* Reading files as my_data by fileAddress\n",
    "* Clearing data from nan types "
   ]
  },
  {
   "cell_type": "code",
   "execution_count": 3,
   "metadata": {},
   "outputs": [
    {
     "data": {
      "text/html": [
       "<div>\n",
       "<style scoped>\n",
       "    .dataframe tbody tr th:only-of-type {\n",
       "        vertical-align: middle;\n",
       "    }\n",
       "\n",
       "    .dataframe tbody tr th {\n",
       "        vertical-align: top;\n",
       "    }\n",
       "\n",
       "    .dataframe thead th {\n",
       "        text-align: right;\n",
       "    }\n",
       "</style>\n",
       "<table border=\"1\" class=\"dataframe\">\n",
       "  <thead>\n",
       "    <tr style=\"text-align: right;\">\n",
       "      <th></th>\n",
       "      <th>live</th>\n",
       "      <th>open</th>\n",
       "      <th>high</th>\n",
       "      <th>low</th>\n",
       "      <th>close</th>\n",
       "      <th>histoy</th>\n",
       "    </tr>\n",
       "  </thead>\n",
       "  <tbody>\n",
       "    <tr>\n",
       "      <th>1</th>\n",
       "      <td>0.195521</td>\n",
       "      <td>0.4442</td>\n",
       "      <td>0.4457</td>\n",
       "      <td>0.4436</td>\n",
       "      <td>0.4438</td>\n",
       "      <td>0.194375</td>\n",
       "    </tr>\n",
       "    <tr>\n",
       "      <th>2</th>\n",
       "      <td>0.005254</td>\n",
       "      <td>0.4438</td>\n",
       "      <td>0.4477</td>\n",
       "      <td>0.4435</td>\n",
       "      <td>0.4461</td>\n",
       "      <td>0.109276</td>\n",
       "    </tr>\n",
       "    <tr>\n",
       "      <th>3</th>\n",
       "      <td>0.193051</td>\n",
       "      <td>0.4461</td>\n",
       "      <td>0.4474</td>\n",
       "      <td>0.4443</td>\n",
       "      <td>0.4473</td>\n",
       "      <td>0.211418</td>\n",
       "    </tr>\n",
       "    <tr>\n",
       "      <th>4</th>\n",
       "      <td>0.282928</td>\n",
       "      <td>0.4473</td>\n",
       "      <td>0.4517</td>\n",
       "      <td>0.4462</td>\n",
       "      <td>0.4497</td>\n",
       "      <td>0.377355</td>\n",
       "    </tr>\n",
       "    <tr>\n",
       "      <th>5</th>\n",
       "      <td>0.567708</td>\n",
       "      <td>0.4496</td>\n",
       "      <td>0.4578</td>\n",
       "      <td>0.4492</td>\n",
       "      <td>0.4554</td>\n",
       "      <td>0.790400</td>\n",
       "    </tr>\n",
       "  </tbody>\n",
       "</table>\n",
       "</div>"
      ],
      "text/plain": [
       "       live    open    high     low   close    histoy\n",
       "1  0.195521  0.4442  0.4457  0.4436  0.4438  0.194375\n",
       "2  0.005254  0.4438  0.4477  0.4435  0.4461  0.109276\n",
       "3  0.193051  0.4461  0.4474  0.4443  0.4473  0.211418\n",
       "4  0.282928  0.4473  0.4517  0.4462  0.4497  0.377355\n",
       "5  0.567708  0.4496  0.4578  0.4492  0.4554  0.790400"
      ]
     },
     "execution_count": 3,
     "metadata": {},
     "output_type": "execute_result"
    }
   ],
   "source": [
    "FileAddress = r\"D:\\Payam\\UT\\Machin Learning\\Files\\site_project.csv\" # address of the file on own PC\n",
    "my_data = pd.read_csv(FileAddress)\n",
    "my_data = my_data[[\"live\" , \"open\" , \"high\" , \"low\" , \"close\" , \"histoy\"]]\n",
    "my_data = my_data.dropna()\n",
    "my_data.head()"
   ]
  },
  {
   "cell_type": "code",
   "execution_count": null,
   "metadata": {},
   "outputs": [],
   "source": []
  },
  {
   "cell_type": "code",
   "execution_count": null,
   "metadata": {},
   "outputs": [],
   "source": []
  }
 ],
 "metadata": {
  "kernelspec": {
   "display_name": "Python 3",
   "language": "python",
   "name": "python3"
  },
  "language_info": {
   "codemirror_mode": {
    "name": "ipython",
    "version": 3
   },
   "file_extension": ".py",
   "mimetype": "text/x-python",
   "name": "python",
   "nbconvert_exporter": "python",
   "pygments_lexer": "ipython3",
   "version": "3.11.2"
  },
  "orig_nbformat": 4,
  "vscode": {
   "interpreter": {
    "hash": "1a3bde3afcea6d6f434be3646667817f408ad01ad49ee4a537ef9595316484bc"
   }
  }
 },
 "nbformat": 4,
 "nbformat_minor": 2
}
